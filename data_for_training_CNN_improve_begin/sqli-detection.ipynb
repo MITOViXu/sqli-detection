{
 "cells": [
  {
   "cell_type": "code",
   "execution_count": 1,
   "id": "550aaa27",
   "metadata": {},
   "outputs": [],
   "source": [
    "import tensorflow as tf\n",
    "from tensorflow.keras.models import Sequential\n",
    "from tensorflow.keras import layers\n",
    "from tensorflow.keras.preprocessing.text import Tokenizer\n",
    "from scikeras.wrappers import KerasRegressor\n"
   ]
  },
  {
   "cell_type": "code",
   "execution_count": 2,
   "id": "e9c00286",
   "metadata": {},
   "outputs": [
    {
     "name": "stderr",
     "output_type": "stream",
     "text": [
      "WARNING:absl:Compiled the loaded model, but the compiled metrics have yet to be built. `model.compile_metrics` will be empty until you train or evaluate the model.\n"
     ]
    }
   ],
   "source": [
    "import keras\n",
    "from keras.models import load_model\n",
    "import pickle\n",
    "\n",
    "# Load model và vectorizer\n",
    "mymodel = load_model('./my_model_additional_sqli_benign_data.h5')\n",
    "myvectorizer = pickle.load(open(\"./vectorizer_additional_sqli_benign_data\", 'rb'))\n",
    "\n",
    "# Hàm làm sạch dữ liệu đầu vào\n",
    "def clean_data(input_val):\n",
    "    input_val = input_val.replace('\\n', '')\n",
    "    input_val = input_val.replace('%20', ' ')\n",
    "    input_val = input_val.replace('=', ' = ')\n",
    "    input_val = input_val.replace('((', ' (( ')\n",
    "    input_val = input_val.replace('))', ' )) ')\n",
    "    input_val = input_val.replace('(', ' ( ')\n",
    "    input_val = input_val.replace(')', ' ) ')\n",
    "    input_val = input_val.replace('1 ', 'numeric')\n",
    "    input_val = input_val.replace(' 1', 'numeric')\n",
    "    input_val = input_val.replace(\"'1 \", \"'numeric \")\n",
    "    input_val = input_val.replace(\" 1'\", \" numeric'\")\n",
    "    input_val = input_val.replace('1,', 'numeric,')\n",
    "    input_val = input_val.replace(\" 2 \", \" numeric \")\n",
    "    input_val = input_val.replace(' 3 ', ' numeric ')\n",
    "    input_val = input_val.replace(' 3--', ' numeric--')\n",
    "    input_val = input_val.replace(\" 4 \", ' numeric ')\n",
    "    input_val = input_val.replace(\" 5 \", ' numeric ')\n",
    "    input_val = input_val.replace(' 6 ', ' numeric ')\n",
    "    input_val = input_val.replace(\" 7 \", ' numeric ')\n",
    "    input_val = input_val.replace(\" 8 \", ' numeric ')\n",
    "    input_val = input_val.replace('1234', ' numeric ')\n",
    "    input_val = input_val.replace(\"22\", ' numeric ')\n",
    "    input_val = input_val.replace(\" 8 \", ' numeric ')\n",
    "    input_val = input_val.replace(\" 200 \", ' numeric ')\n",
    "    input_val = input_val.replace(\"23 \", ' numeric ')\n",
    "    input_val = input_val.replace('\"1', '\"numeric')\n",
    "    input_val = input_val.replace('1\"', '\"numeric')\n",
    "    input_val = input_val.replace(\"7659\", 'numeric')\n",
    "    input_val = input_val.replace(\" 37 \", ' numeric ')\n",
    "    input_val = input_val.replace(\" 45 \", ' numeric ')\n",
    "    return input_val\n",
    "\n",
    "# Hàm dự đoán với input được truyền trực tiếp\n",
    "def predict_sqli_attack(input_val):\n",
    "    beautify = '=' * 20\n",
    "    print(beautify)\n",
    "    print(f\"Kiểm tra sữ liệu đầu vào: {input_val}\")\n",
    "    print(beautify)\n",
    "\n",
    "    if input_val == '0':\n",
    "        print(\"Good Bye\")\n",
    "        return\n",
    "\n",
    "    input_val = clean_data(input_val)\n",
    "    input_vector = myvectorizer.transform([input_val]).toarray()\n",
    "    result = mymodel.predict(input_vector)\n",
    "\n",
    "    print(beautify)\n",
    "\n",
    "    if result > 0.5:\n",
    "        print(\"\\033[91mCảnh báo !!! Phát hiện SQL injection\\033[0m\")\n",
    "    else:\n",
    "        print(\"Input an toàn\")\n",
    "\n",
    "    print(beautify)\n"
   ]
  },
  {
   "cell_type": "code",
   "execution_count": null,
   "id": "28d99f28",
   "metadata": {},
   "outputs": [],
   "source": [
    "predict_sqli_attack(input_val)"
   ]
  }
 ],
 "metadata": {
  "kernelspec": {
   "display_name": "Python 3",
   "language": "python",
   "name": "python3"
  },
  "language_info": {
   "codemirror_mode": {
    "name": "ipython",
    "version": 3
   },
   "file_extension": ".py",
   "mimetype": "text/x-python",
   "name": "python",
   "nbconvert_exporter": "python",
   "pygments_lexer": "ipython3",
   "version": "3.10.11"
  }
 },
 "nbformat": 4,
 "nbformat_minor": 5
}
